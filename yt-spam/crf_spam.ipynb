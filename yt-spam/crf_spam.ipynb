{
 "cells": [
  {
   "cell_type": "code",
   "execution_count": 7,
   "id": "e6cacde1-3443-44de-ac77-e9585807f582",
   "metadata": {},
   "outputs": [
    {
     "name": "stdout",
     "output_type": "stream",
     "text": [
      "Classification Report:\n",
      "               precision    recall  f1-score   support\n",
      "\n",
      "           0       0.93      0.96      0.95        27\n",
      "           1       0.98      0.95      0.96        43\n",
      "\n",
      "    accuracy                           0.96        70\n",
      "   macro avg       0.95      0.96      0.96        70\n",
      "weighted avg       0.96      0.96      0.96        70\n",
      "\n"
     ]
    },
    {
     "name": "stdin",
     "output_type": "stream",
     "text": [
      "Enter a comment:  this is so good\n"
     ]
    },
    {
     "name": "stdout",
     "output_type": "stream",
     "text": [
      "Predicted Class: 0\n"
     ]
    }
   ],
   "source": [
    "import pandas as pd\n",
    "from sklearn.model_selection import train_test_split\n",
    "from sklearn_crfsuite import CRF, metrics\n",
    "from sklearn_crfsuite import scorers\n",
    "from sklearn.feature_extraction.text import TfidfVectorizer\n",
    "from sklearn.naive_bayes import MultinomialNB\n",
    "from sklearn.pipeline import make_pipeline\n",
    "from sklearn.metrics import classification_report\n",
    "\n",
    "def load_data(file_path):\n",
    "    df = pd.read_csv(file_path)\n",
    "    return df['CONTENT'], df['CLASS']\n",
    "\n",
    "def word2features(word):\n",
    "    features = {\n",
    "        'bias': 1.0,\n",
    "        'word.lower()': word.lower(),\n",
    "        'word[-3:]': word[-3:],\n",
    "        'word[-2:]': word[-2:],\n",
    "        'word.isupper()': word.isupper(),\n",
    "        'word.istitle()': word.istitle(),\n",
    "        'word.isdigit()': word.isdigit(),\n",
    "    }\n",
    "    return features\n",
    "\n",
    "def prepare_features(X):\n",
    "    return [[word2features(word) for word in sentence.split()] for sentence in X]\n",
    "\n",
    "def train_crf_classifier(X, y):\n",
    "    # Note: This is a simplified example. In real scenarios, X and y need to be lists of lists\n",
    "    # where each inner list represents a sequence (e.g., a sentence).\n",
    "    \n",
    "    X_features = prepare_features(X)\n",
    "    # For simplicity, assume y is a list of labels for each sentence.\n",
    "    # In a real CRF scenario, y would be a list of lists of labels for each word.\n",
    "    \n",
    "    # To use CRF, you would need to restructure y into a list of lists of labels.\n",
    "    # Here's a placeholder for restructuring:\n",
    "    sequences_y = [[label] for label in y]\n",
    "    \n",
    "    # However, since CRF expects labels for each word, this won't work directly.\n",
    "    # Let's focus on the original task using MultinomialNB for text classification.\n",
    "    \n",
    "    # For CRF, you would need something like this, but it's not suitable for your data:\n",
    "    # X_train, X_test, y_train, y_test = train_test_split(X_features, sequences_y, test_size=0.2, random_state=42)\n",
    "    \n",
    "    # Instead, let's use MultinomialNB for text classification:\n",
    "    X_train, X_test, y_train, y_test = train_test_split(X, y, test_size=0.2, random_state=42)\n",
    "    model = make_pipeline(TfidfVectorizer(), MultinomialNB())\n",
    "    model.fit(X_train, y_train)\n",
    "    y_pred = model.predict(X_test)\n",
    "    print(\"Classification Report:\\n\", classification_report(y_test, y_pred))\n",
    "    return model\n",
    "\n",
    "def predict_class(model, comment):\n",
    "    return model.predict([comment])[0]\n",
    "\n",
    "if __name__ == \"__main__\":\n",
    "    file_path = \"Youtube01-Psy.csv\"  # Update with the correct path\n",
    "    X, y = load_data(file_path)\n",
    "    model = train_crf_classifier(X, y)\n",
    "\n",
    "    # Test user input\n",
    "    user_comment = input(\"Enter a comment: \")\n",
    "    predicted_class = predict_class(model, user_comment)\n",
    "    print(f\"Predicted Class: {predicted_class}\")\n",
    "    \n"
   ]
  }
 ],
 "metadata": {
  "kernelspec": {
   "display_name": "Python [conda env:base] *",
   "language": "python",
   "name": "conda-base-py"
  },
  "language_info": {
   "codemirror_mode": {
    "name": "ipython",
    "version": 3
   },
   "file_extension": ".py",
   "mimetype": "text/x-python",
   "name": "python",
   "nbconvert_exporter": "python",
   "pygments_lexer": "ipython3",
   "version": "3.12.7"
  }
 },
 "nbformat": 4,
 "nbformat_minor": 5
}
